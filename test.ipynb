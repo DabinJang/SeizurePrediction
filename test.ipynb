{
 "cells": [
  {
   "cell_type": "code",
   "execution_count": 6,
   "metadata": {},
   "outputs": [],
   "source": [
    "import pandas as pd\n",
    "from pyedflib.highlevel import read_edf_header\n",
    "import os\n",
    "import re"
   ]
  },
  {
   "cell_type": "code",
   "execution_count": 2,
   "metadata": {},
   "outputs": [],
   "source": [
    "DATA_PATH = \".\\\\data\\\\CHB\""
   ]
  },
  {
   "cell_type": "code",
   "execution_count": 3,
   "metadata": {},
   "outputs": [],
   "source": [
    "patient_info = pd.read_csv(\"patient_info_chb_origin.csv\")"
   ]
  },
  {
   "cell_type": "code",
   "execution_count": 5,
   "metadata": {},
   "outputs": [
    {
     "data": {
      "text/html": [
       "<div>\n",
       "<style scoped>\n",
       "    .dataframe tbody tr th:only-of-type {\n",
       "        vertical-align: middle;\n",
       "    }\n",
       "\n",
       "    .dataframe tbody tr th {\n",
       "        vertical-align: top;\n",
       "    }\n",
       "\n",
       "    .dataframe thead th {\n",
       "        text-align: right;\n",
       "    }\n",
       "</style>\n",
       "<table border=\"1\" class=\"dataframe\">\n",
       "  <thead>\n",
       "    <tr style=\"text-align: right;\">\n",
       "      <th></th>\n",
       "      <th>name</th>\n",
       "      <th>start</th>\n",
       "      <th>end</th>\n",
       "      <th>state</th>\n",
       "    </tr>\n",
       "  </thead>\n",
       "  <tbody>\n",
       "    <tr>\n",
       "      <th>0</th>\n",
       "      <td>CHB001</td>\n",
       "      <td>3371856174</td>\n",
       "      <td>3371859785</td>\n",
       "      <td>interictal</td>\n",
       "    </tr>\n",
       "    <tr>\n",
       "      <th>1</th>\n",
       "      <td>CHB001</td>\n",
       "      <td>3371859785</td>\n",
       "      <td>3371861465</td>\n",
       "      <td>preictal_early</td>\n",
       "    </tr>\n",
       "    <tr>\n",
       "      <th>2</th>\n",
       "      <td>CHB001</td>\n",
       "      <td>3371861465</td>\n",
       "      <td>3371863265</td>\n",
       "      <td>preictal_ontime</td>\n",
       "    </tr>\n",
       "    <tr>\n",
       "      <th>3</th>\n",
       "      <td>CHB001</td>\n",
       "      <td>3371863265</td>\n",
       "      <td>3371863385</td>\n",
       "      <td>preictal_late</td>\n",
       "    </tr>\n",
       "    <tr>\n",
       "      <th>4</th>\n",
       "      <td>CHB001</td>\n",
       "      <td>3371863385</td>\n",
       "      <td>3371866380</td>\n",
       "      <td>ictal</td>\n",
       "    </tr>\n",
       "  </tbody>\n",
       "</table>\n",
       "</div>"
      ],
      "text/plain": [
       "     name       start         end            state\n",
       "0  CHB001  3371856174  3371859785       interictal\n",
       "1  CHB001  3371859785  3371861465   preictal_early\n",
       "2  CHB001  3371861465  3371863265  preictal_ontime\n",
       "3  CHB001  3371863265  3371863385    preictal_late\n",
       "4  CHB001  3371863385  3371866380            ictal"
      ]
     },
     "execution_count": 5,
     "metadata": {},
     "output_type": "execute_result"
    }
   ],
   "source": [
    "patient_info.head()"
   ]
  },
  {
   "cell_type": "code",
   "execution_count": 9,
   "metadata": {},
   "outputs": [
    {
     "name": "stdout",
     "output_type": "stream",
     "text": [
      "['CHB001_01.edf', 'CHB001_02.edf', 'CHB001_03.edf', 'CHB001_04.edf', 'CHB001_05.edf', 'CHB001_06.edf', 'CHB001_07.edf', 'CHB001_08.edf', 'CHB001_09.edf', 'CHB001_10.edf', 'CHB001_11.edf', 'CHB001_12.edf', 'CHB001_13.edf', 'CHB001_14.edf', 'CHB001_15.edf', 'CHB001_16.edf', 'CHB001_17.edf', 'CHB001_18.edf', 'CHB001_19.edf', 'CHB001_20.edf', 'CHB001_21.edf', 'CHB001_22.edf', 'CHB001_23.edf', 'CHB001_24.edf', 'CHB001_25.edf', 'CHB001_26.edf', 'CHB001_27.edf', 'CHB001_29.edf', 'CHB001_30.edf', 'CHB001_31.edf', 'CHB001_32.edf', 'CHB001_33.edf', 'CHB001_34.edf', 'CHB001_36.edf', 'CHB001_37.edf', 'CHB001_38.edf', 'CHB001_39.edf', 'CHB001_40.edf', 'CHB001_41.edf', 'CHB001_42.edf', 'CHB001_43.edf', 'CHB001_46.edf']\n",
      "['CHB002_01.edf', 'CHB002_02.edf', 'CHB002_03.edf', 'CHB002_04.edf', 'CHB002_05.edf', 'CHB002_06.edf', 'CHB002_07.edf', 'CHB002_08.edf', 'CHB002_09.edf', 'CHB002_10.edf', 'CHB002_11.edf', 'CHB002_12.edf', 'CHB002_13.edf', 'CHB002_14.edf', 'CHB002_15.edf', 'CHB002_16+.edf', 'CHB002_16.edf', 'CHB002_17.edf', 'CHB002_18.edf', 'CHB002_19.edf', 'CHB002_20.edf', 'CHB002_21.edf', 'CHB002_22.edf', 'CHB002_23.edf', 'CHB002_24.edf', 'CHB002_25.edf', 'CHB002_26.edf', 'CHB002_27.edf', 'CHB002_28.edf', 'CHB002_29.edf', 'CHB002_30.edf', 'CHB002_31.edf', 'CHB002_32.edf', 'CHB002_33.edf', 'CHB002_34.edf', 'CHB002_35.edf']\n"
     ]
    }
   ],
   "source": [
    "chb_dir_list = [dir_name for dir_name in os.listdir(DATA_PATH) if re.match(\"CHB[0-9]{3}\", dir_name)]\n",
    "for chb_dir in chb_dir_list:\n",
    "    edf_dir_path = os.path.join(DATA_PATH, chb_dir)\n",
    "    edf_list = [file_name for file_name in os.listdir(edf_dir_path) if file_name.endswith('.edf')]\n",
    "    \n",
    "    for edf in edf_list:\n",
    "        \n",
    "    "
   ]
  },
  {
   "cell_type": "code",
   "execution_count": null,
   "metadata": {},
   "outputs": [],
   "source": []
  }
 ],
 "metadata": {
  "kernelspec": {
   "display_name": "ep",
   "language": "python",
   "name": "python3"
  },
  "language_info": {
   "codemirror_mode": {
    "name": "ipython",
    "version": 3
   },
   "file_extension": ".py",
   "mimetype": "text/x-python",
   "name": "python",
   "nbconvert_exporter": "python",
   "pygments_lexer": "ipython3",
   "version": "3.7.3"
  },
  "orig_nbformat": 4
 },
 "nbformat": 4,
 "nbformat_minor": 2
}
