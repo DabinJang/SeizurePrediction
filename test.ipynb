{
 "cells": [
  {
   "cell_type": "code",
   "execution_count": 12,
   "metadata": {},
   "outputs": [],
   "source": [
    "import pandas as pd\n",
    "from pyedflib.highlevel import read_edf_header\n",
    "import os\n",
    "import re\n",
    "from datetime import datetime, timedelta"
   ]
  },
  {
   "cell_type": "code",
   "execution_count": 6,
   "metadata": {},
   "outputs": [
    {
     "data": {
      "text/html": [
       "<div>\n",
       "<style scoped>\n",
       "    .dataframe tbody tr th:only-of-type {\n",
       "        vertical-align: middle;\n",
       "    }\n",
       "\n",
       "    .dataframe tbody tr th {\n",
       "        vertical-align: top;\n",
       "    }\n",
       "\n",
       "    .dataframe thead th {\n",
       "        text-align: right;\n",
       "    }\n",
       "</style>\n",
       "<table border=\"1\" class=\"dataframe\">\n",
       "  <thead>\n",
       "    <tr style=\"text-align: right;\">\n",
       "      <th></th>\n",
       "      <th>name</th>\n",
       "      <th>start</th>\n",
       "      <th>end</th>\n",
       "      <th>state</th>\n",
       "    </tr>\n",
       "  </thead>\n",
       "  <tbody>\n",
       "    <tr>\n",
       "      <th>0</th>\n",
       "      <td>CHB001</td>\n",
       "      <td>3371856174</td>\n",
       "      <td>3371859785</td>\n",
       "      <td>interictal</td>\n",
       "    </tr>\n",
       "    <tr>\n",
       "      <th>1</th>\n",
       "      <td>CHB001</td>\n",
       "      <td>3371859785</td>\n",
       "      <td>3371861465</td>\n",
       "      <td>preictal_early</td>\n",
       "    </tr>\n",
       "    <tr>\n",
       "      <th>2</th>\n",
       "      <td>CHB001</td>\n",
       "      <td>3371861465</td>\n",
       "      <td>3371863265</td>\n",
       "      <td>preictal_ontime</td>\n",
       "    </tr>\n",
       "    <tr>\n",
       "      <th>3</th>\n",
       "      <td>CHB001</td>\n",
       "      <td>3371863265</td>\n",
       "      <td>3371863385</td>\n",
       "      <td>preictal_late</td>\n",
       "    </tr>\n",
       "    <tr>\n",
       "      <th>4</th>\n",
       "      <td>CHB001</td>\n",
       "      <td>3371863385</td>\n",
       "      <td>3371866380</td>\n",
       "      <td>ictal</td>\n",
       "    </tr>\n",
       "  </tbody>\n",
       "</table>\n",
       "</div>"
      ],
      "text/plain": [
       "     name       start         end            state\n",
       "0  CHB001  3371856174  3371859785       interictal\n",
       "1  CHB001  3371859785  3371861465   preictal_early\n",
       "2  CHB001  3371861465  3371863265  preictal_ontime\n",
       "3  CHB001  3371863265  3371863385    preictal_late\n",
       "4  CHB001  3371863385  3371866380            ictal"
      ]
     },
     "execution_count": 6,
     "metadata": {},
     "output_type": "execute_result"
    }
   ],
   "source": [
    "DATA_PATH = \".\\\\data\\\\CHB\"\n",
    "patient_info = pd.read_csv(\"patient_info_chb_origin.csv\")\n",
    "patient_info.head()"
   ]
  },
  {
   "cell_type": "code",
   "execution_count": 34,
   "metadata": {},
   "outputs": [],
   "source": [
    "# dict_keys(['technician', 'recording_additional', 'patientname', 'patient_additional', 'patientcode', 'equipment', 'admincode', 'sex', 'startdate', 'birthdate', 'gender', 'Duration', 'SignalHeaders', 'channels', 'annotations'])\n",
    "patient_info_split_list = []\n",
    "\n",
    "chb_dir_list = [dir_name for dir_name in os.listdir(DATA_PATH) if re.match(\"CHB[0-9]{3}\", dir_name)]\n",
    "for chb_dir in chb_dir_list:\n",
    "    current_patient_info = patient_info[patient_info['name']==chb_dir]\n",
    "    edf_dir_path = os.path.join(DATA_PATH, chb_dir)\n",
    "    edf_list = [file_name for file_name in os.listdir(edf_dir_path) if file_name.endswith('.edf')]\n",
    "    \n",
    "    for edf in edf_list:\n",
    "        header = read_edf_header(os.path.join(edf_dir_path, edf))\n",
    "        startdate = header['startdate']\n",
    "        duration = header['Duration']\n",
    "        edf_start = int(startdate.timestamp())\n",
    "        edf_end = int((startdate + timedelta(seconds=duration)).timestamp())\n",
    "        edf_name = edf[:-4]\n",
    "        \n",
    "        for info in current_patient_info.itertuples(index=False):\n",
    "            _, info_start, info_end, state = info\n",
    "                    \n",
    "            if info_end<=edf_start:\n",
    "                continue\n",
    "            \n",
    "            if edf_end<info_start:\n",
    "                break\n",
    "            \n",
    "            patient_info_split_list.append([edf_name,\n",
    "                                            max(info_start, edf_start),\n",
    "                                            min(info_end, edf_end),\n",
    "                                            state])                   "
   ]
  },
  {
   "cell_type": "code",
   "execution_count": 35,
   "metadata": {},
   "outputs": [],
   "source": [
    "pd.DataFrame(patient_info_split_list, columns=['name', 'start', 'end', 'state']).to_csv('./patient_info_split_chb.csv')"
   ]
  },
  {
   "cell_type": "code",
   "execution_count": 2,
   "metadata": {},
   "outputs": [
    {
     "data": {
      "text/plain": [
       "[PhysicalDevice(name='/physical_device:CPU:0', device_type='CPU'),\n",
       " PhysicalDevice(name='/physical_device:GPU:0', device_type='GPU')]"
      ]
     },
     "execution_count": 2,
     "metadata": {},
     "output_type": "execute_result"
    }
   ],
   "source": []
  },
  {
   "cell_type": "code",
   "execution_count": 3,
   "metadata": {},
   "outputs": [
    {
     "data": {
      "text/plain": [
       "'2.10.0'"
      ]
     },
     "execution_count": 3,
     "metadata": {},
     "output_type": "execute_result"
    }
   ],
   "source": []
  },
  {
   "cell_type": "code",
   "execution_count": null,
   "metadata": {},
   "outputs": [],
   "source": []
  }
 ],
 "metadata": {
  "kernelspec": {
   "display_name": "ep",
   "language": "python",
   "name": "python3"
  },
  "language_info": {
   "codemirror_mode": {
    "name": "ipython",
    "version": 3
   },
   "file_extension": ".py",
   "mimetype": "text/x-python",
   "name": "python",
   "nbconvert_exporter": "python",
   "pygments_lexer": "ipython3",
   "version": "3.7.3"
  },
  "orig_nbformat": 4
 },
 "nbformat": 4,
 "nbformat_minor": 2
}
