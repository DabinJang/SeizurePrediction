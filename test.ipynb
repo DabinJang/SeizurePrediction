{
 "cells": [
  {
   "cell_type": "code",
   "execution_count": 1,
   "metadata": {},
   "outputs": [
    {
     "name": "stderr",
     "output_type": "stream",
     "text": [
      "2023-10-27 04:37:38.566326: E tensorflow/compiler/xla/stream_executor/cuda/cuda_dnn.cc:9342] Unable to register cuDNN factory: Attempting to register factory for plugin cuDNN when one has already been registered\n",
      "2023-10-27 04:37:38.566366: E tensorflow/compiler/xla/stream_executor/cuda/cuda_fft.cc:609] Unable to register cuFFT factory: Attempting to register factory for plugin cuFFT when one has already been registered\n",
      "2023-10-27 04:37:38.566543: E tensorflow/compiler/xla/stream_executor/cuda/cuda_blas.cc:1518] Unable to register cuBLAS factory: Attempting to register factory for plugin cuBLAS when one has already been registered\n"
     ]
    }
   ],
   "source": [
    "# %%\n",
    "import os\n",
    "\n",
    "os.environ['TF_GPU_THREAD_MODE']='gpu_private'\n",
    "os.environ['TF_CPP_MIN_LOG_LEVEL'] = '2'\n",
    "\n",
    "from datetime import datetime\n",
    "import sys\n",
    "import numpy as np\n",
    "import random\n",
    "import operator\n",
    "import matplotlib as plt\n",
    "import pickle\n",
    "import tensorflow as tf\n",
    "from tensorflow.keras.layers import Input\n",
    "from tensorflow.keras.models import Model\n",
    "from tensorflow.keras.utils import Sequence\n",
    "import re\n",
    "import pandas as pd\n",
    "from pyedflib.highlevel import read_edf, read_edf_header\n",
    "\n",
    "from sklearn.model_selection import KFold\n",
    "\n",
    "gpus = tf.config.list_physical_devices('GPU')\n",
    "if gpus:\n",
    "  try:\n",
    "    tf.config.experimental.set_memory_growth(gpus[0], True)\n",
    "  except RuntimeError as e:\n",
    "    print(e)"
   ]
  },
  {
   "cell_type": "code",
   "execution_count": 34,
   "metadata": {},
   "outputs": [],
   "source": [
    "# edf_header.keys() = dict_keys(['technician', 'recording_additional', 'patientname', 'patient_additional', 'patientcode',\n",
    "# 'equipment', 'admincode', 'sex', 'startdate', 'birthdate', 'gender', 'Duration', 'SignalHeaders', 'channels', 'annotations'])\n",
    "\n",
    "signal_channel_list = []\n",
    "\n",
    "patient_name_list = [x for x in os.listdir('./data/CHB/') if re.match('(CHB)|(chb)[0-9]{2,}', x)]\n",
    "for patient_name in patient_name_list:\n",
    "    patient_path = os.path.join('./data/CHB/', patient_name)\n",
    "\n",
    "    edf_list = [x for x in os.listdir(patient_path) if x.endswith('.edf')]\n",
    "\n",
    "    for edf in edf_list:\n",
    "        edf_path = os.path.join(patient_path, edf)\n",
    "        header = read_edf_header(edf_path)\n",
    "        channels = header['channels']\n",
    "        if len(channels)>10:\n",
    "            signal_channel_list.append([edf, channels])\n"
   ]
  },
  {
   "cell_type": "code",
   "execution_count": 38,
   "metadata": {},
   "outputs": [
    {
     "name": "stdout",
     "output_type": "stream",
     "text": [
      "['FP1-F7', 'F7-T7', 'T7-P7', 'P7-O1', 'FP1-F3', 'F3-C3', 'C3-P3', 'P3-O1', 'FP2-F4', 'F4-C4', 'C4-P4', 'P4-O2', 'FP2-F8', 'F8-T8', 'T8-P8', 'P8-O2', 'FZ-CZ', 'CZ-PZ', 'P7-T7', 'T7-FT9', 'FT9-FT10', 'FT10-T8', 'T8-P8']\n",
      "23\n",
      "['FP1-F7', 'F7-T7', 'T7-P7', 'P7-O1', 'FP1-F3', 'F3-C3', 'C3-P3', 'P3-O1', 'FP2-F4', 'F4-C4', 'C4-P4', 'P4-O2', 'FP2-F8', 'F8-T8', 'T8-P8', 'P8-O2', 'FZ-CZ', 'CZ-PZ', 'T8-P8']\n",
      "19\n"
     ]
    }
   ],
   "source": [
    "used_channel = signal_channel_list[0][1]\n",
    "print(used_channel)\n",
    "print(len(used_channel))\n",
    "for channel in signal_channel_list[1:]:\n",
    "    common = [x for x in used_channel if x in channel[1]]\n",
    "    if len(common)<10:\n",
    "        continue\n",
    "    used_channel = common\n",
    "\n",
    "print(used_channel)\n",
    "print(len(used_channel))"
   ]
  },
  {
   "cell_type": "code",
   "execution_count": 41,
   "metadata": {},
   "outputs": [],
   "source": [
    "pd.DataFrame(list(zip(used_channel,range(len(used_channel)))),columns=['label','index']).to_csv('./chb_channel_label.csv', index=False)    "
   ]
  },
  {
   "cell_type": "code",
   "execution_count": 26,
   "metadata": {},
   "outputs": [
    {
     "name": "stdout",
     "output_type": "stream",
     "text": [
      "0 CHB012_27.edf\n",
      "0 CHB012_28.edf\n",
      "0 CHB012_29.edf\n",
      "18 CHB013_04.edf\n",
      "18 CHB013_05.edf\n",
      "18 CHB013_06.edf\n",
      "18 CHB013_07.edf\n",
      "18 CHB013_08.edf\n",
      "18 CHB013_09.edf\n",
      "18 CHB013_10.edf\n",
      "18 CHB013_11.edf\n",
      "18 CHB013_12.edf\n",
      "18 CHB013_13.edf\n",
      "18 CHB013_14.edf\n",
      "18 CHB013_15.edf\n",
      "18 CHB013_16.edf\n",
      "18 CHB013_18.edf\n",
      "18 CHB013_24.edf\n",
      "18 CHB013_30.edf\n",
      "18 CHB013_36.edf\n",
      "18 CHB013_37.edf\n",
      "18 CHB013_38.edf\n",
      "18 CHB013_39.edf\n",
      "18 CHB013_40.edf\n",
      "18 CHB013_47.edf\n",
      "18 CHB015_01.edf\n",
      "18 CHB016_18.edf\n",
      "18 CHB016_19.edf\n",
      "18 CHB018_01.edf\n",
      "18 CHB019_01.edf\n",
      "18 chb17c_13.edf\n"
     ]
    }
   ],
   "source": [
    "common_channel = signal_channel_list[0][0]\n",
    "for x in signal_channel_list[1:]:\n",
    "    if len(common_channel)!=len(common_channel&x[0]):    \n",
    "        print(len(common_channel&x[0]),x[1])"
   ]
  },
  {
   "cell_type": "code",
   "execution_count": null,
   "metadata": {},
   "outputs": [],
   "source": []
  },
  {
   "cell_type": "code",
   "execution_count": 6,
   "metadata": {},
   "outputs": [
    {
     "name": "stdout",
     "output_type": "stream",
     "text": [
      "[22, 22, 22, 22, 22, 22, 22, 22, 22, 22, 22, 22, 22, 22, 22, 22, 22, 22, 22, 22, 22, 22, 22]\n",
      "22\n",
      "{'T7-FT9', 'P7-O1', 'T8-P8', 'FP1-F3', 'T7-P7', 'FT10-T8', 'P8-O2', 'F3-C3', 'F4-C4', 'F8-T8', 'CZ-PZ', 'FZ-CZ', 'FP1-F7', 'P3-O1', 'P4-O2', 'FP2-F8', 'P7-T7', 'F7-T7', 'FT9-FT10', 'C3-P3', 'C4-P4', 'FP2-F4'}\n"
     ]
    }
   ],
   "source": [
    "signal_label = []\n",
    "patient_name_list = [x for x in os.listdir('./data/CHB/') if re.match('CHB[0-9]{3}', x)]\n",
    "for patient_name in patient_name_list:\n",
    "    sample_edf = os.listdir(os.path.join('./data/CHB/',patient_name))[0]\n",
    "    sample_edf_path = os.path.join('./data/CHB/', patient_name, sample_edf)\n",
    "    header = read_edf_header('./data/CHB/CHB001/CHB001_01.edf')\n",
    "\n",
    "    current_signal_label = set()\n",
    "    for signal_dict in header[\"SignalHeaders\"]:\n",
    "        current_signal_label.add(signal_dict['label'])\n",
    "    \n",
    "    signal_label.append(current_signal_label)\n",
    "len_signal_label = [len(x) for x in signal_label]\n",
    "print(len_signal_label)\n",
    "all_label = set()\n",
    "for x in signal_label:\n",
    "    all_label |= x\n",
    "print(len(all_label))\n",
    "print(all_label)"
   ]
  },
  {
   "cell_type": "code",
   "execution_count": null,
   "metadata": {},
   "outputs": [],
   "source": []
  },
  {
   "cell_type": "code",
   "execution_count": 7,
   "metadata": {},
   "outputs": [
    {
     "ename": "KeyboardInterrupt",
     "evalue": "",
     "output_type": "error",
     "traceback": [
      "\u001b[0;31m---------------------------------------------------------------------------\u001b[0m",
      "\u001b[0;31mKeyboardInterrupt\u001b[0m                         Traceback (most recent call last)",
      "\u001b[1;32m/home/c/Users/jangdabin/Desktop/Epilepsy/Code/test.ipynb 셀 5\u001b[0m line \u001b[0;36m3\n\u001b[1;32m     <a href='vscode-notebook-cell://attached-container%2B7b22636f6e7461696e65724e616d65223a222f6372617a795f7a68756b6f76736b79227d/home/c/Users/jangdabin/Desktop/Epilepsy/Code/test.ipynb#W4sdnNjb2RlLXJlbW90ZQ%3D%3D?line=26'>27</a>\u001b[0m dirname \u001b[39m=\u001b[39m filename\u001b[39m.\u001b[39msplit(\u001b[39m'\u001b[39m\u001b[39m_\u001b[39m\u001b[39m'\u001b[39m)[\u001b[39m0\u001b[39m]\n\u001b[1;32m     <a href='vscode-notebook-cell://attached-container%2B7b22636f6e7461696e65724e616d65223a222f6372617a795f7a68756b6f76736b79227d/home/c/Users/jangdabin/Desktop/Epilepsy/Code/test.ipynb#W4sdnNjb2RlLXJlbW90ZQ%3D%3D?line=27'>28</a>\u001b[0m filepath \u001b[39m=\u001b[39m os\u001b[39m.\u001b[39mpath\u001b[39m.\u001b[39mjoin(\u001b[39m'\u001b[39m\u001b[39m./data/CHB/\u001b[39m\u001b[39m'\u001b[39m,dirname,filename\u001b[39m+\u001b[39m\u001b[39m'\u001b[39m\u001b[39m.edf\u001b[39m\u001b[39m'\u001b[39m)\n\u001b[0;32m---> <a href='vscode-notebook-cell://attached-container%2B7b22636f6e7461696e65724e616d65223a222f6372617a795f7a68756b6f76736b79227d/home/c/Users/jangdabin/Desktop/Epilepsy/Code/test.ipynb#W4sdnNjb2RlLXJlbW90ZQ%3D%3D?line=29'>30</a>\u001b[0m header \u001b[39m=\u001b[39m read_edf_header(filepath)\n\u001b[1;32m     <a href='vscode-notebook-cell://attached-container%2B7b22636f6e7461696e65724e616d65223a222f6372617a795f7a68756b6f76736b79227d/home/c/Users/jangdabin/Desktop/Epilepsy/Code/test.ipynb#W4sdnNjb2RlLXJlbW90ZQ%3D%3D?line=30'>31</a>\u001b[0m startdate \u001b[39m=\u001b[39m header[\u001b[39m'\u001b[39m\u001b[39mstartdate\u001b[39m\u001b[39m'\u001b[39m]\n\u001b[1;32m     <a href='vscode-notebook-cell://attached-container%2B7b22636f6e7461696e65724e616d65223a222f6372617a795f7a68756b6f76736b79227d/home/c/Users/jangdabin/Desktop/Epilepsy/Code/test.ipynb#W4sdnNjb2RlLXJlbW90ZQ%3D%3D?line=32'>33</a>\u001b[0m start_from_0sec \u001b[39m=\u001b[39m \u001b[39mint\u001b[39m(start\u001b[39m-\u001b[39mstartdate\u001b[39m.\u001b[39mtimestamp())\u001b[39m*\u001b[39mFREQUENCY_CHB\n",
      "File \u001b[0;32m/usr/local/lib/python3.11/dist-packages/pyedflib/highlevel.py:554\u001b[0m, in \u001b[0;36mread_edf_header\u001b[0;34m(edf_file, read_annotations)\u001b[0m\n\u001b[1;32m    539\u001b[0m \u001b[39mdef\u001b[39;00m \u001b[39mread_edf_header\u001b[39m(edf_file, read_annotations\u001b[39m=\u001b[39m\u001b[39mTrue\u001b[39;00m):\n\u001b[1;32m    540\u001b[0m \u001b[39m    \u001b[39m\u001b[39m\"\"\"\u001b[39;00m\n\u001b[1;32m    541\u001b[0m \u001b[39m    Reads the header and signal headers of an EDF file and it's annotations\u001b[39;00m\n\u001b[1;32m    542\u001b[0m \n\u001b[0;32m   (...)\u001b[0m\n\u001b[1;32m    552\u001b[0m \n\u001b[1;32m    553\u001b[0m \u001b[39m    \"\"\"\u001b[39;00m\n\u001b[0;32m--> 554\u001b[0m     \u001b[39massert\u001b[39;00m os\u001b[39m.\u001b[39;49mpath\u001b[39m.\u001b[39;49misfile(edf_file), \u001b[39mf\u001b[39m\u001b[39m'\u001b[39m\u001b[39mfile \u001b[39m\u001b[39m{\u001b[39;00medf_file\u001b[39m}\u001b[39;00m\u001b[39m does not exist\u001b[39m\u001b[39m'\u001b[39m\n\u001b[1;32m    555\u001b[0m     \u001b[39mwith\u001b[39;00m pyedflib\u001b[39m.\u001b[39mEdfReader(edf_file) \u001b[39mas\u001b[39;00m f:\n\u001b[1;32m    557\u001b[0m         summary \u001b[39m=\u001b[39m f\u001b[39m.\u001b[39mgetHeader()\n",
      "File \u001b[0;32m<frozen genericpath>:30\u001b[0m, in \u001b[0;36misfile\u001b[0;34m(path)\u001b[0m\n",
      "\u001b[0;31mKeyboardInterrupt\u001b[0m: "
     ]
    }
   ],
   "source": [
    "WINDOW_SIZE = 2 # sec\n",
    "OVERLAP = 0 # sec\n",
    "FREQUENCY_CHB = 256 #Hz\n",
    "ictal_section_name = ['ictal', 'preictal_late', 'preictal_ontime', 'preictal_early', 'postictal', 'interictal']\n",
    "\n",
    "origin = pd.read_csv(\"./patient_info_chb_split.csv\")\n",
    "\n",
    "patient_info_chb_segment = list()\n",
    "\n",
    "for state in ictal_section_name:\n",
    "    total_current_state = origin[origin['state']==state]\n",
    "\n",
    "    # short-term data with overlap\n",
    "    if state in ['ictal', 'preictal_late', 'preictal_ontime', 'preictal_early']:\n",
    "        OVERLAP = 1\n",
    "\n",
    "    # long-term data without overlap\n",
    "    if state in [\"interictal\", \"postictal\"]:\n",
    "        OVERLAP = 0\n",
    "\n",
    "    for current_state in total_current_state.itertuples():\n",
    "        filename, start, end = current_state[1], current_state[2], current_state[3]\n",
    "\n",
    "        if end-start<WINDOW_SIZE:\n",
    "            continue\n",
    "        \n",
    "        dirname = filename.split('_')[0]\n",
    "        filepath = os.path.join('./data/CHB/',dirname,filename+'.edf')\n",
    "        \n",
    "        header = read_edf_header(filepath)\n",
    "        startdate = header['startdate']\n",
    "        \n",
    "        start_from_0sec = int(start-startdate.timestamp())*FREQUENCY_CHB\n",
    "        end_from_0sec = int(end-startdate.timestamp())*FREQUENCY_CHB            \n",
    "\n",
    "        step_size = (WINDOW_SIZE-OVERLAP)*FREQUENCY_CHB #index\n",
    "        window_size_with_frequency = int(WINDOW_SIZE*FREQUENCY_CHB)\n",
    "        for window_start_index in range(start_from_0sec, end_from_0sec, step_size):\n",
    "            # [\"name\", \"start\", \"duration\", \"state\", \"frequency\"]\n",
    "            current_segment = [filename, window_start_index, window_size_with_frequency, state, FREQUENCY_CHB]\n",
    "            patient_info_chb_segment.append(current_segment)"
   ]
  },
  {
   "cell_type": "code",
   "execution_count": null,
   "metadata": {},
   "outputs": [
    {
     "data": {
      "text/plain": [
       "21"
      ]
     },
     "execution_count": 19,
     "metadata": {},
     "output_type": "execute_result"
    }
   ],
   "source": [
    "len(['Fp1-AVG', 'F3-AVG', 'C3-AVG', 'P3-AVG', 'Fp2-AVG', 'F4-AVG', 'C4-AVG', 'P4-AVG', 'F7-AVG', 'T1-AVG', 'T3-AVG', 'T5-AVG', 'O1-AVG', 'F8-AVG', 'T2-AVG', 'T4-AVG', 'T6-AVG', 'O2-AVG', 'Fz-AVG', 'Cz-AVG', 'Pz-AVG'])"
   ]
  },
  {
   "cell_type": "code",
   "execution_count": null,
   "metadata": {},
   "outputs": [
    {
     "name": "stdout",
     "output_type": "stream",
     "text": [
      "1770539\n"
     ]
    }
   ],
   "source": [
    "print(len(patient_info_chb_segment))"
   ]
  },
  {
   "cell_type": "code",
   "execution_count": null,
   "metadata": {},
   "outputs": [],
   "source": [
    "df =pd.DataFrame(patient_info_chb_segment, columns=[\"name\", \"start\", \"duration\", \"state\", \"frequency\"])"
   ]
  },
  {
   "cell_type": "code",
   "execution_count": null,
   "metadata": {},
   "outputs": [
    {
     "data": {
      "text/plain": [
       "(257581, 5)"
      ]
     },
     "execution_count": 6,
     "metadata": {},
     "output_type": "execute_result"
    }
   ],
   "source": [
    "df[df['state']=='ictal'].shape"
   ]
  },
  {
   "cell_type": "code",
   "execution_count": null,
   "metadata": {},
   "outputs": [],
   "source": [
    "df1 = df.iloc[:df.shape[0]//2,:]\n",
    "df2 = df.iloc[df.shape[0]//2:,:]"
   ]
  },
  {
   "cell_type": "code",
   "execution_count": null,
   "metadata": {},
   "outputs": [],
   "source": [
    "df1.to_csv('./patient_info_chb_segment_1.csv', index=False)"
   ]
  },
  {
   "cell_type": "code",
   "execution_count": null,
   "metadata": {},
   "outputs": [],
   "source": [
    "df2.to_csv('./patient_info_chb_segment_2.csv', index=False)"
   ]
  },
  {
   "cell_type": "code",
   "execution_count": null,
   "metadata": {},
   "outputs": [],
   "source": [
    "from pyedflib import EdfReader\n",
    "from pyedflib.highlevel import read_edf"
   ]
  },
  {
   "cell_type": "code",
   "execution_count": null,
   "metadata": {},
   "outputs": [
    {
     "data": {
      "text/plain": [
       "array([ 0.1953602 ,  0.1953602 ,  0.1953602 ,  0.1953602 ,  0.97680098,\n",
       "        0.58608059, -1.75824176, -1.36752137,  2.93040293,  4.1025641 ])"
      ]
     },
     "execution_count": 2,
     "metadata": {},
     "output_type": "execute_result"
    }
   ],
   "source": [
    "def read_segment(path, chn, start, n):\n",
    "    \"\"\"\n",
    "    Returns the physical data of signal chn. When start and n is set, a subset is returned\n",
    "\n",
    "    Parameters:\t\n",
    "    chn : int\n",
    "    channel number\n",
    "\n",
    "    start : int\n",
    "    start pointer (default is 0)\n",
    "\n",
    "    n : int\n",
    "    length of data to read (default is None, by which the complete data of the channel are returned)\n",
    "\n",
    "    digital: bool\n",
    "    will return the signal in original digital values instead of physical values\n",
    "\n",
    "    Examples\n",
    "    ——–\n",
    "    >>> import pyedflib\n",
    "    >>> f = pyedflib.data.test_generator()\n",
    "    >>> x = f.readSignal(0,0,1000)\n",
    "    >>> int(x.shape[0])\n",
    "    1000\n",
    "    >>> x2 = f.readSignal(0)\n",
    "    >>> int(x2.shape[0])\n",
    "    120000\n",
    "    >>> f.close()    \n",
    "    \"\"\"\n",
    "    path = \"./data/CHB/CHB001/CHB001_01.edf\"\n",
    "    f = EdfReader(path)\n",
    "    segment = f.readSignal(chn,start,n,digital=True)\n",
    "    "
   ]
  },
  {
   "cell_type": "code",
   "execution_count": null,
   "metadata": {},
   "outputs": [],
   "source": [
    "f.close()"
   ]
  },
  {
   "cell_type": "code",
   "execution_count": null,
   "metadata": {},
   "outputs": [],
   "source": []
  },
  {
   "cell_type": "code",
   "execution_count": null,
   "metadata": {},
   "outputs": [
    {
     "data": {
      "text/plain": [
       "array([[-1.45934066e+02,  1.95360195e-01,  1.95360195e-01, ...,\n",
       "        -1.15262515e+01, -2.93040293e+00,  1.93406593e+01],\n",
       "       [-1.04517705e+02,  1.95360195e-01,  1.95360195e-01, ...,\n",
       "         2.36385836e+01,  2.75457875e+01,  3.06715507e+01],\n",
       "       [-4.27838828e+01,  1.95360195e-01,  1.95360195e-01, ...,\n",
       "         4.86446886e+01,  4.51282051e+01,  3.45787546e+01],\n",
       "       ...,\n",
       "       [-2.64713065e+02,  1.95360195e-01,  5.86080586e-01, ...,\n",
       "         9.76800977e-01, -1.58241758e+01, -2.94993895e+01],\n",
       "       [ 9.47496947e+01,  1.95360195e-01,  1.95360195e-01, ...,\n",
       "        -7.22832723e+00, -1.03540904e+01, -1.34798535e+01],\n",
       "       [ 4.47374847e+01,  1.95360195e-01,  1.95360195e-01, ...,\n",
       "         1.69963370e+01,  2.24664225e+01,  2.63736264e+01]])"
      ]
     },
     "execution_count": 10,
     "metadata": {},
     "output_type": "execute_result"
    }
   ],
   "source": []
  },
  {
   "cell_type": "code",
   "execution_count": null,
   "metadata": {},
   "outputs": [],
   "source": []
  }
 ],
 "metadata": {
  "kernelspec": {
   "display_name": "Python 3 (ipykernel)",
   "language": "python",
   "name": "python3"
  },
  "language_info": {
   "codemirror_mode": {
    "name": "ipython",
    "version": 3
   },
   "file_extension": ".py",
   "mimetype": "text/x-python",
   "name": "python",
   "nbconvert_exporter": "python",
   "pygments_lexer": "ipython3",
   "version": "3.11.0"
  },
  "orig_nbformat": 4
 },
 "nbformat": 4,
 "nbformat_minor": 2
}
